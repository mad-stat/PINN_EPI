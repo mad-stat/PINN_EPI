{
 "cells": [
  {
   "cell_type": "code",
   "execution_count": 1,
   "id": "785b095f",
   "metadata": {},
   "outputs": [],
   "source": [
    "import numpy as np\n",
    "import scipy.io as sio\n",
    "import matplotlib.pyplot as plt\n",
    "import pandas as pd\n",
    "from scipy.special import erfinv\n",
    "import math\n",
    "\n",
    "from sklearn.metrics import mean_absolute_error as mae"
   ]
  },
  {
   "cell_type": "code",
   "execution_count": 2,
   "id": "74bfcf4e",
   "metadata": {},
   "outputs": [],
   "source": [
    "data_ref = sio.loadmat(\"data/data_weekly_avg.mat\")"
   ]
  },
  {
   "cell_type": "code",
   "execution_count": 3,
   "id": "dd246407",
   "metadata": {},
   "outputs": [],
   "source": [
    "res = sio.loadmat(\"result/res_V14_1.mat\")\n",
    "\n",
    "\n",
    "all_cases_pred = res['all_cases_pred']\n",
    "all_deaths_pred = res['all_deaths_pred']\n",
    "all_hospitalized_pred = res['all_hospitalized_pred']\n",
    "\n",
    "\n",
    "cases_pred_1w = all_cases_pred[0][40:-4]\n",
    "cases_pred_2w = all_cases_pred[1][40:-4]\n",
    "cases_pred_3w = all_cases_pred[2][40:-4]\n",
    "cases_pred_4w = all_cases_pred[3][40:-4]\n",
    "\n",
    "deaths_pred_1w = all_deaths_pred[0][40:-4]\n",
    "deaths_pred_2w = all_deaths_pred[1][40:-4]\n",
    "deaths_pred_3w = all_deaths_pred[2][40:-4]\n",
    "deaths_pred_4w = all_deaths_pred[3][40:-4]\n",
    "\n",
    "hospitalized_pred_1w = all_hospitalized_pred[0][40:-4]\n",
    "hospitalized_pred_2w = all_hospitalized_pred[1][40:-4]\n",
    "hospitalized_pred_3w = all_hospitalized_pred[2][40:-4]\n",
    "hospitalized_pred_4w = all_hospitalized_pred[3][40:-4]"
   ]
  },
  {
   "cell_type": "code",
   "execution_count": 16,
   "id": "8dfcaafc",
   "metadata": {},
   "outputs": [
    {
     "name": "stdout",
     "output_type": "stream",
     "text": [
      "mase_cases_1w:  0.9363280215248992\n",
      "mase_cases_2w:  0.9146539831990961\n",
      "mase_cases_3w:  0.8531600223079286\n",
      "mase_cases_4w:  0.7241604196646101\n",
      "mase_deaths_1w:  1.0628603500280407\n",
      "mase_deaths_2w:  0.9456691633480548\n",
      "mase_deaths_3w:  0.8201043489949801\n",
      "mase_deaths_4w:  0.835628803320806\n",
      "mase_hospitalized_1w:  0.5370017537624996\n",
      "mase_hospitalized_2w:  0.5651418622065328\n",
      "mase_hospitalized_3w:  0.5638058889119723\n",
      "mase_hospitalized_4w:  0.6286004723733501\n"
     ]
    }
   ],
   "source": [
    "week_len = 25\n",
    "\n",
    "mae_cases_1w = mae(res[\"cases_ref\"][4:4+week_len], cases_pred_1w[:week_len])\n",
    "mae_cases_naive = mae(res[\"cases_ref\"][4:4+week_len], res[\"cases_ref\"][4-1:4+week_len-1])\n",
    "print(\"mase_cases_1w: \", mae_cases_1w / mae_cases_naive)\n",
    "\n",
    "mae_cases_2w = mae(res[\"cases_ref\"][4:4+week_len], cases_pred_2w[:week_len])\n",
    "mae_cases_naive = mae(res[\"cases_ref\"][4:4+week_len], res[\"cases_ref\"][4-2:4+week_len-2])\n",
    "print(\"mase_cases_2w: \", mae_cases_2w / mae_cases_naive)\n",
    "\n",
    "mae_cases_3w = mae(res[\"cases_ref\"][4:4+week_len], cases_pred_3w[:week_len])\n",
    "mae_cases_naive = mae(res[\"cases_ref\"][4:4+week_len], res[\"cases_ref\"][4-3:4+week_len-3])\n",
    "print(\"mase_cases_3w: \", mae_cases_3w / mae_cases_naive)\n",
    "\n",
    "mae_cases_4w = mae(res[\"cases_ref\"][4:4+week_len], cases_pred_4w[:week_len])\n",
    "mae_cases_naive = mae(res[\"cases_ref\"][4:4+week_len], res[\"cases_ref\"][4-4:4+week_len-4])\n",
    "print(\"mase_cases_4w: \", mae_cases_4w / mae_cases_naive)\n",
    "    \n",
    "mae_deaths_1w = mae(res[\"deaths_ref\"][4:4+week_len], deaths_pred_1w[:week_len])\n",
    "mae_deaths_naive = mae(res[\"deaths_ref\"][4:4+week_len], res[\"deaths_ref\"][4-1:4+week_len-1])\n",
    "print(\"mase_deaths_1w: \", mae_deaths_1w / mae_deaths_naive)\n",
    "\n",
    "mae_deaths_2w = mae(res[\"deaths_ref\"][4:4+week_len], deaths_pred_2w[:week_len])\n",
    "mae_deaths_naive = mae(res[\"deaths_ref\"][4:4+week_len], res[\"deaths_ref\"][4-2:4+week_len-2])\n",
    "print(\"mase_deaths_2w: \", mae_deaths_2w / mae_deaths_naive)\n",
    "\n",
    "mae_deaths_3w = mae(res[\"deaths_ref\"][4:4+week_len], deaths_pred_3w[:week_len])\n",
    "mae_deaths_naive = mae(res[\"deaths_ref\"][4:4+week_len], res[\"deaths_ref\"][4-3:4+week_len-3])\n",
    "print(\"mase_deaths_3w: \", mae_deaths_3w / mae_deaths_naive)\n",
    "\n",
    "mae_deaths_4w = mae(res[\"deaths_ref\"][4:4+week_len], deaths_pred_4w[:week_len])\n",
    "mae_deaths_naive = mae(res[\"deaths_ref\"][4:4+week_len], res[\"deaths_ref\"][4-4:4+week_len-4])\n",
    "print(\"mase_deaths_4w: \", mae_deaths_4w / mae_deaths_naive)\n",
    "\n",
    "mae_hospitalized_1w = mae(res[\"hospitalized_ref\"][4:4+week_len], hospitalized_pred_1w[:week_len])\n",
    "mae_hospitalized_naive = mae(res[\"hospitalized_ref\"][4:4+week_len], res[\"hospitalized_ref\"][4-1:4+week_len-1])\n",
    "print(\"mase_hospitalized_1w: \", mae_hospitalized_1w / mae_hospitalized_naive)\n",
    "\n",
    "mae_hospitalized_2w = mae(res[\"hospitalized_ref\"][4:4+week_len], hospitalized_pred_2w[:week_len])\n",
    "mae_hospitalized_naive = mae(res[\"hospitalized_ref\"][4:4+week_len], res[\"hospitalized_ref\"][4-2:4+week_len-2])\n",
    "print(\"mase_hospitalized_2w: \", mae_hospitalized_2w / mae_hospitalized_naive)\n",
    "\n",
    "mae_hospitalized_3w = mae(res[\"hospitalized_ref\"][4:4+week_len], hospitalized_pred_3w[:week_len])\n",
    "mae_hospitalized_naive = mae(res[\"hospitalized_ref\"][4:4+week_len], res[\"hospitalized_ref\"][4-3:4+week_len-3])\n",
    "print(\"mase_hospitalized_3w: \", mae_hospitalized_3w / mae_hospitalized_naive)\n",
    "\n",
    "mae_hospitalized_4w = mae(res[\"hospitalized_ref\"][4:4+week_len], hospitalized_pred_4w[:week_len])\n",
    "mae_hospitalized_naive = mae(res[\"hospitalized_ref\"][4:4+week_len], res[\"hospitalized_ref\"][4-4:4+week_len-4])\n",
    "print(\"mase_hospitalized_4w: \", mae_hospitalized_4w / mae_hospitalized_naive)"
   ]
  },
  {
   "cell_type": "code",
   "execution_count": null,
   "id": "3a5a8777",
   "metadata": {},
   "outputs": [],
   "source": []
  },
  {
   "cell_type": "code",
   "execution_count": null,
   "id": "9ac790fc",
   "metadata": {},
   "outputs": [],
   "source": []
  },
  {
   "cell_type": "code",
   "execution_count": null,
   "id": "e7993971",
   "metadata": {},
   "outputs": [],
   "source": []
  },
  {
   "cell_type": "code",
   "execution_count": null,
   "id": "b9117fa7",
   "metadata": {},
   "outputs": [],
   "source": []
  },
  {
   "cell_type": "code",
   "execution_count": null,
   "id": "25c1c12e",
   "metadata": {},
   "outputs": [],
   "source": []
  },
  {
   "cell_type": "code",
   "execution_count": null,
   "id": "2886ad85",
   "metadata": {},
   "outputs": [],
   "source": []
  },
  {
   "cell_type": "code",
   "execution_count": null,
   "id": "256187b8",
   "metadata": {},
   "outputs": [],
   "source": []
  },
  {
   "cell_type": "code",
   "execution_count": null,
   "id": "e8bdfa70",
   "metadata": {},
   "outputs": [],
   "source": []
  },
  {
   "cell_type": "code",
   "execution_count": null,
   "id": "c7f54008",
   "metadata": {},
   "outputs": [],
   "source": []
  },
  {
   "cell_type": "code",
   "execution_count": null,
   "id": "526a395b",
   "metadata": {},
   "outputs": [],
   "source": []
  }
 ],
 "metadata": {
  "kernelspec": {
   "display_name": "Python 3 (ipykernel)",
   "language": "python",
   "name": "python3"
  },
  "language_info": {
   "codemirror_mode": {
    "name": "ipython",
    "version": 3
   },
   "file_extension": ".py",
   "mimetype": "text/x-python",
   "name": "python",
   "nbconvert_exporter": "python",
   "pygments_lexer": "ipython3",
   "version": "3.9.13"
  }
 },
 "nbformat": 4,
 "nbformat_minor": 5
}
