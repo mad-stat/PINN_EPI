{
 "cells": [
  {
   "cell_type": "code",
   "execution_count": 1,
   "id": "3196a2d8",
   "metadata": {},
   "outputs": [],
   "source": [
    "import numpy as np\n",
    "import scipy.io as sio\n",
    "import matplotlib.pyplot as plt\n",
    "import pandas as pd\n",
    "import math"
   ]
  },
  {
   "cell_type": "code",
   "execution_count": 2,
   "id": "101960fe",
   "metadata": {},
   "outputs": [],
   "source": [
    "res = sio.loadmat(\"result/res_V14_1.mat\")\n",
    "\n",
    "\n",
    "all_cases_pred = res['all_cases_pred']\n",
    "all_deaths_pred = res['all_deaths_pred']\n",
    "all_hospitalized_pred = res['all_hospitalized_pred']\n",
    "\n",
    "\n",
    "cases_pred_1w = all_cases_pred[0][40:-4]\n",
    "cases_pred_2w = all_cases_pred[1][40:-4]\n",
    "cases_pred_3w = all_cases_pred[2][40:-4]\n",
    "cases_pred_4w = all_cases_pred[3][40:-4]\n",
    "cases_pred = np.concatenate((cases_pred_1w, cases_pred_2w, cases_pred_3w, cases_pred_4w))\n",
    "cases_ref = np.concatenate((res[\"cases_ref\"][4:-4].reshape(-1), res[\"cases_ref\"][4:-4].reshape(-1), res[\"cases_ref\"][4:-4].reshape(-1), res[\"cases_ref\"][4:-4].reshape(-1)))\n",
    "\n",
    "deaths_pred_1w = all_deaths_pred[0][40:-4]\n",
    "deaths_pred_2w = all_deaths_pred[1][40:-4]\n",
    "deaths_pred_3w = all_deaths_pred[2][40:-4]\n",
    "deaths_pred_4w = all_deaths_pred[3][40:-4]\n",
    "deaths_pred = np.concatenate((deaths_pred_1w, deaths_pred_2w, deaths_pred_3w, deaths_pred_4w))\n",
    "deaths_ref = np.concatenate((res[\"deaths_ref\"][4:-4].reshape(-1), res[\"deaths_ref\"][4:-4].reshape(-1), res[\"deaths_ref\"][4:-4].reshape(-1), res[\"deaths_ref\"][4:-4].reshape(-1)))\n",
    "\n",
    "hospitalized_pred_1w = all_hospitalized_pred[0][40:-4]\n",
    "hospitalized_pred_2w = all_hospitalized_pred[1][40:-4]\n",
    "hospitalized_pred_3w = all_hospitalized_pred[2][40:-4]\n",
    "hospitalized_pred_4w = all_hospitalized_pred[3][40:-4]\n",
    "hospitalized_pred = np.concatenate((hospitalized_pred_1w, hospitalized_pred_2w, hospitalized_pred_3w, hospitalized_pred_4w))\n",
    "hospitalized_ref = np.concatenate((res[\"hospitalized_ref\"][4:-4].reshape(-1), res[\"hospitalized_ref\"][4:-4].reshape(-1), res[\"hospitalized_ref\"][4:-4].reshape(-1), res[\"hospitalized_ref\"][4:-4].reshape(-1)))"
   ]
  },
  {
   "cell_type": "code",
   "execution_count": 3,
   "id": "39ccc427",
   "metadata": {},
   "outputs": [],
   "source": [
    "WK = 280"
   ]
  },
  {
   "cell_type": "code",
   "execution_count": null,
   "id": "5474b7f3",
   "metadata": {},
   "outputs": [],
   "source": []
  },
  {
   "cell_type": "code",
   "execution_count": 4,
   "id": "3a67b0bb",
   "metadata": {},
   "outputs": [
    {
     "data": {
      "text/plain": [
       "1.3618868316355286"
      ]
     },
     "execution_count": 4,
     "metadata": {},
     "output_type": "execute_result"
    }
   ],
   "source": [
    "NR1_upper = math.sqrt(np.sum(np.power(np.subtract(cases_pred, cases_ref), 2)) / WK)\n",
    "NR1_lower = np.sum(np.abs(cases_ref)) / WK\n",
    "NR1 = NR1_upper / NR1_lower\n",
    "NR1"
   ]
  },
  {
   "cell_type": "code",
   "execution_count": 5,
   "id": "3c01f7a0",
   "metadata": {},
   "outputs": [
    {
     "data": {
      "text/plain": [
       "0.17570650788906583"
      ]
     },
     "execution_count": 5,
     "metadata": {},
     "output_type": "execute_result"
    }
   ],
   "source": [
    "NR2_upper = math.sqrt(np.sum(np.power(np.subtract(cases_pred, cases_ref), 2)) / WK)\n",
    "NR2_lower = np.max(cases_ref) - np.min(cases_ref)\n",
    "NR2 = NR2_upper / NR2_lower\n",
    "NR2"
   ]
  },
  {
   "cell_type": "code",
   "execution_count": 6,
   "id": "0f309b30",
   "metadata": {},
   "outputs": [
    {
     "data": {
      "text/plain": [
       "0.5569078581799592"
      ]
     },
     "execution_count": 6,
     "metadata": {},
     "output_type": "execute_result"
    }
   ],
   "source": [
    "ND_upper = np.sum(np.abs(np.subtract(cases_pred, cases_ref)))\n",
    "ND_lower = np.sum(np.abs(cases_ref))\n",
    "ND = ND_upper / ND_lower\n",
    "ND"
   ]
  },
  {
   "cell_type": "code",
   "execution_count": null,
   "id": "8f1957a6",
   "metadata": {},
   "outputs": [],
   "source": []
  },
  {
   "cell_type": "code",
   "execution_count": null,
   "id": "735c55bf",
   "metadata": {},
   "outputs": [],
   "source": []
  },
  {
   "cell_type": "code",
   "execution_count": 11,
   "id": "754ace41",
   "metadata": {},
   "outputs": [
    {
     "data": {
      "text/plain": [
       "0.5270633280826066"
      ]
     },
     "execution_count": 11,
     "metadata": {},
     "output_type": "execute_result"
    }
   ],
   "source": [
    "NR1_upper = math.sqrt(np.sum(np.power(np.subtract(deaths_pred, deaths_ref), 2)) / WK)\n",
    "NR1_lower = np.sum(np.abs(deaths_ref)) / WK\n",
    "NR1 = NR1_upper / NR1_lower\n",
    "NR1"
   ]
  },
  {
   "cell_type": "code",
   "execution_count": 12,
   "id": "7717dadf",
   "metadata": {},
   "outputs": [
    {
     "data": {
      "text/plain": [
       "0.14970137892450386"
      ]
     },
     "execution_count": 12,
     "metadata": {},
     "output_type": "execute_result"
    }
   ],
   "source": [
    "NR2_upper = math.sqrt(np.sum(np.power(np.subtract(deaths_pred, deaths_ref), 2)) / WK)\n",
    "NR2_lower = np.max(cases_ref) - np.min(deaths_ref)\n",
    "NR2 = NR2_upper / NR2_lower\n",
    "NR2"
   ]
  },
  {
   "cell_type": "code",
   "execution_count": 13,
   "id": "590c3bec",
   "metadata": {},
   "outputs": [
    {
     "data": {
      "text/plain": [
       "0.3296746282760571"
      ]
     },
     "execution_count": 13,
     "metadata": {},
     "output_type": "execute_result"
    }
   ],
   "source": [
    "ND_upper = np.sum(np.abs(np.subtract(deaths_pred, deaths_ref)))\n",
    "ND_lower = np.sum(np.abs(deaths_ref))\n",
    "ND = ND_upper / ND_lower\n",
    "ND"
   ]
  },
  {
   "cell_type": "code",
   "execution_count": null,
   "id": "a2e1fe66",
   "metadata": {},
   "outputs": [],
   "source": []
  },
  {
   "cell_type": "code",
   "execution_count": null,
   "id": "71a41bcf",
   "metadata": {},
   "outputs": [],
   "source": []
  },
  {
   "cell_type": "code",
   "execution_count": 14,
   "id": "f091f8e6",
   "metadata": {},
   "outputs": [
    {
     "data": {
      "text/plain": [
       "0.501790939496163"
      ]
     },
     "execution_count": 14,
     "metadata": {},
     "output_type": "execute_result"
    }
   ],
   "source": [
    "NR1_upper = math.sqrt(np.sum(np.power(np.subtract(hospitalized_pred, hospitalized_ref), 2)) / WK)\n",
    "NR1_lower = np.sum(np.abs(hospitalized_ref)) / WK\n",
    "NR1 = NR1_upper / NR1_lower\n",
    "NR1"
   ]
  },
  {
   "cell_type": "code",
   "execution_count": 15,
   "id": "4010224c",
   "metadata": {},
   "outputs": [
    {
     "data": {
      "text/plain": [
       "0.1900079124175705"
      ]
     },
     "execution_count": 15,
     "metadata": {},
     "output_type": "execute_result"
    }
   ],
   "source": [
    "NR2_upper = math.sqrt(np.sum(np.power(np.subtract(hospitalized_pred, hospitalized_ref), 2)) / WK)\n",
    "NR2_lower = np.max(cases_ref) - np.min(hospitalized_ref)\n",
    "NR2 = NR2_upper / NR2_lower\n",
    "NR2"
   ]
  },
  {
   "cell_type": "code",
   "execution_count": 16,
   "id": "36c70a2b",
   "metadata": {},
   "outputs": [
    {
     "data": {
      "text/plain": [
       "0.2803851916433441"
      ]
     },
     "execution_count": 16,
     "metadata": {},
     "output_type": "execute_result"
    }
   ],
   "source": [
    "ND_upper = np.sum(np.abs(np.subtract(hospitalized_pred, hospitalized_ref)))\n",
    "ND_lower = np.sum(np.abs(hospitalized_ref))\n",
    "ND = ND_upper / ND_lower\n",
    "ND"
   ]
  },
  {
   "cell_type": "code",
   "execution_count": null,
   "id": "8ca432d2",
   "metadata": {},
   "outputs": [],
   "source": []
  },
  {
   "cell_type": "code",
   "execution_count": null,
   "id": "fe64d739",
   "metadata": {},
   "outputs": [],
   "source": []
  }
 ],
 "metadata": {
  "kernelspec": {
   "display_name": "Python 3 (ipykernel)",
   "language": "python",
   "name": "python3"
  },
  "language_info": {
   "codemirror_mode": {
    "name": "ipython",
    "version": 3
   },
   "file_extension": ".py",
   "mimetype": "text/x-python",
   "name": "python",
   "nbconvert_exporter": "python",
   "pygments_lexer": "ipython3",
   "version": "3.9.13"
  }
 },
 "nbformat": 4,
 "nbformat_minor": 5
}
